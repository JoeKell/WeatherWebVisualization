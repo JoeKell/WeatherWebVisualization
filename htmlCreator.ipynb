{
 "metadata": {
  "language_info": {
   "codemirror_mode": {
    "name": "ipython",
    "version": 3
   },
   "file_extension": ".py",
   "mimetype": "text/x-python",
   "name": "python",
   "nbconvert_exporter": "python",
   "pygments_lexer": "ipython3",
   "version": "3.8.3-final"
  },
  "orig_nbformat": 2,
  "kernelspec": {
   "name": "python3",
   "display_name": "Python 3"
  }
 },
 "nbformat": 4,
 "nbformat_minor": 2,
 "cells": [
  {
   "cell_type": "code",
   "execution_count": null,
   "metadata": {},
   "outputs": [],
   "source": [
    "# Import Dependencies\n",
    "import csv"
   ]
  },
  {
   "cell_type": "code",
   "execution_count": null,
   "metadata": {},
   "outputs": [],
   "source": [
    "csvpath = \"Resources/cities.csv\""
   ]
  },
  {
   "cell_type": "code",
   "execution_count": null,
   "metadata": {
    "tags": []
   },
   "outputs": [],
   "source": [
    "h=open(\"table.html\",\"w+\")\n",
    "h.write(\"   <table>\\n\")\n",
    "h.write(\"     <thead>\\n\")\n",
    "h.write(\"       <tr>\\n\")\n",
    "\n",
    "i=0\n",
    "with open(csvpath) as csvfile:\n",
    "    csvreader = csv.reader(csvfile, delimiter=\",\")\n",
    "\n",
    "    # Read the header row first (skip this step if there is now header)\n",
    "    csv_header = next(csvreader)\n",
    "    for head in csv_header:\n",
    "        h.write(f\"         <th>{head}</th>\\n\")\n",
    "\n",
    "    h.write(\"       </tr>\\n\")\n",
    "    h.write(\"     </thead>\\n\")\n",
    "\n",
    "    h.write(\"     <tbody>\\n\")\n",
    "\n",
    "    # Read each row of data after the header\n",
    "    for row in csvreader:\n",
    "        if i%2==0:\n",
    "            h.write(\"       <tr class=\"+chr(34)+\"alt\"+chr(34)+\">\\n\")\n",
    "        else:\n",
    "            h.write(\"       <tr>\\n\")\n",
    "        for r in row:\n",
    "            h.write(f\"         <td>{r}</td>\\n\")\n",
    "        i+=1\n",
    "        h.write(\"       </tr>\\n\")\n",
    "\n",
    "\n",
    "h.write(\"     </tbody>\\n\")\n",
    "h.write(\"   </table>\")\n",
    "h.close()"
   ]
  },
  {
   "cell_type": "code",
   "execution_count": null,
   "metadata": {},
   "outputs": [],
   "source": []
  },
  {
   "cell_type": "code",
   "execution_count": null,
   "metadata": {},
   "outputs": [],
   "source": []
  }
 ]
}